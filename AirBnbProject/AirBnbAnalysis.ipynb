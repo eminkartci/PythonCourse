{
 "cells": [
  {
   "cell_type": "markdown",
   "metadata": {},
   "source": [
    "\n",
    "### AirBnb Project\n",
    "\n",
    "```\n",
    "Airbnb, Inc. is an American company that operates an online marketplace for lodging, primarily homestays for vacation rentals, and tourism activities. \n",
    "```\n"
   ]
  },
  {
   "cell_type": "code",
   "execution_count": 33,
   "metadata": {},
   "outputs": [],
   "source": [
    "from __future__ import print_function\n",
    "from ipywidgets import interact, interactive, fixed, interact_manual\n",
    "from IPython.display import display\n",
    "import ipywidgets as widgets"
   ]
  },
  {
   "cell_type": "code",
   "execution_count": 27,
   "metadata": {},
   "outputs": [],
   "source": [
    "# define variables\n",
    "roomPrice = 100\n",
    "roomCount = 1\n",
    "availableDays = 30\n",
    "occupanyRate = 0.6\n",
    "\n",
    "cleaningFee = 50\n",
    "unitBill = 5\n",
    "\n",
    "rent = 2500\n",
    "maintanance = 500"
   ]
  },
  {
   "cell_type": "code",
   "execution_count": 43,
   "metadata": {},
   "outputs": [
    {
     "data": {
      "application/vnd.jupyter.widget-view+json": {
       "model_id": "9891fd7d2af7424882bcfa4fcb399a4a",
       "version_major": 2,
       "version_minor": 0
      },
      "text/plain": [
       "IntSlider(value=100, description='Room Price(tl):', max=500)"
      ]
     },
     "metadata": {},
     "output_type": "display_data"
    },
    {
     "data": {
      "application/vnd.jupyter.widget-view+json": {
       "model_id": "aaece7fbec2a41ba8a12ebc33eb77187",
       "version_major": 2,
       "version_minor": 0
      },
      "text/plain": [
       "IntSlider(value=2, description='Room Count:', max=50)"
      ]
     },
     "metadata": {},
     "output_type": "display_data"
    }
   ],
   "source": [
    "\n",
    "roomPriceUI = widgets.IntSlider(\n",
    "    value=100,\n",
    "    min=0,\n",
    "    max=500,\n",
    "    step=1,\n",
    "    description='Room Price:',\n",
    "    disabled=False,\n",
    "    continuous_update=True,\n",
    "    orientation='horizontal',\n",
    "    readout=True,\n",
    "    readout_format='d')\n",
    "display(roomPriceUI)\n",
    "\n",
    "roomCountUI = widgets.IntSlider(\n",
    "    value=2,\n",
    "    min=0,\n",
    "    max=50,\n",
    "    step=1,\n",
    "    description='Room Count:',\n",
    "    disabled=False,\n",
    "    continuous_update=True,\n",
    "    orientation='horizontal',\n",
    "    readout=True,\n",
    "    readout_format='d')\n",
    "display(roomCountUI)"
   ]
  },
  {
   "cell_type": "code",
   "execution_count": 39,
   "metadata": {},
   "outputs": [
    {
     "name": "stdout",
     "output_type": "stream",
     "text": [
      "136\n"
     ]
    }
   ],
   "source": [
    "print(w.value)"
   ]
  },
  {
   "cell_type": "code",
   "execution_count": 28,
   "metadata": {},
   "outputs": [],
   "source": [
    "def calculateRevenue(roomPrice,roomCount,availableDays,occupanyRate):\n",
    "    revenue = roomPrice * roomCount * availableDays * occupanyRate\n",
    "    print(f\"Revenue: {revenue} tl\")\n",
    "    \n",
    "def calculateVariableCost(roomCount,availableDays,occupanyRate,cleaningFee,unitBill):\n",
    "    variableCost = roomCount * (cleaningFee + unitBill) * availableDays * occupanyRate\n",
    "    print(f\"Variable Cost: {variableCost} tl\")\n",
    "    \n",
    "def calculateFixedCost(rent,maintanance):\n",
    "    fixedCosts = rent + maintanance\n",
    "    print(f\"Fixed Cost: {fixedCosts} tl\")\n",
    "    "
   ]
  },
  {
   "cell_type": "code",
   "execution_count": 29,
   "metadata": {},
   "outputs": [
    {
     "name": "stdout",
     "output_type": "stream",
     "text": [
      "Revenue: 1800.0 tl\n",
      "Variable Cost: 990.0 tl\n",
      "Fixed Cost: 3000 tl\n"
     ]
    }
   ],
   "source": [
    "calculateRevenue(roomPrice,roomCount,availableDays,occupanyRate)\n",
    "calculateVariableCost(roomCount,availableDays,occupanyRate,cleaningFee,unitBill)\n",
    "calculateFixedCost(rent,maintanance)"
   ]
  },
  {
   "cell_type": "code",
   "execution_count": null,
   "metadata": {},
   "outputs": [],
   "source": []
  }
 ],
 "metadata": {
  "kernelspec": {
   "display_name": "Python 3",
   "language": "python",
   "name": "python3"
  },
  "language_info": {
   "codemirror_mode": {
    "name": "ipython",
    "version": 3
   },
   "file_extension": ".py",
   "mimetype": "text/x-python",
   "name": "python",
   "nbconvert_exporter": "python",
   "pygments_lexer": "ipython3",
   "version": "3.8.5"
  }
 },
 "nbformat": 4,
 "nbformat_minor": 4
}
