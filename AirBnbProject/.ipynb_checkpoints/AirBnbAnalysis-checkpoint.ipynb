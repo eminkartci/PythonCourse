{
 "cells": [
  {
   "cell_type": "markdown",
   "metadata": {},
   "source": [
    "\n",
    "### AirBnb Project\n",
    "\n",
    "```\n",
    "Airbnb, Inc. is an American company that operates an online marketplace for lodging, primarily homestays for vacation rentals, and tourism activities. \n",
    "```\n"
   ]
  },
  {
   "cell_type": "code",
   "execution_count": 1,
   "metadata": {},
   "outputs": [],
   "source": [
    "from __future__ import print_function\n",
    "from ipywidgets import interact, interactive, fixed, interact_manual\n",
    "from IPython.display import display\n",
    "import ipywidgets as widgets"
   ]
  },
  {
   "cell_type": "code",
   "execution_count": 2,
   "metadata": {},
   "outputs": [],
   "source": [
    "# Define Variables\n",
    "roomPrice = 100\n",
    "roomCount = 1\n",
    "aviableDays = 30\n",
    "occupanyRate = 0.6\n",
    "\n",
    "cleaningFee = 50\n",
    "unitBill = 5\n",
    "\n",
    "#Fixed Cost\n",
    "rent = 2500\n",
    "maintainance = 500"
   ]
  },
  {
   "cell_type": "code",
   "execution_count": 3,
   "metadata": {},
   "outputs": [
    {
     "data": {
      "application/vnd.jupyter.widget-view+json": {
       "model_id": "2ab64cc96e6c4a4ebf729f828712652e",
       "version_major": 2,
       "version_minor": 0
      },
      "text/plain": [
       "IntSlider(value=100, description='Room Price:', max=500)"
      ]
     },
     "metadata": {},
     "output_type": "display_data"
    },
    {
     "data": {
      "application/vnd.jupyter.widget-view+json": {
       "model_id": "73ac5244c52a49d5b1656d758b99eb7d",
       "version_major": 2,
       "version_minor": 0
      },
      "text/plain": [
       "IntSlider(value=2, description='Room Count:', max=50)"
      ]
     },
     "metadata": {},
     "output_type": "display_data"
    }
   ],
   "source": [
    "\n",
    "roomPriceUI = widgets.IntSlider(\n",
    "    value=100,\n",
    "    min=0,\n",
    "    max=500,\n",
    "    step=1,\n",
    "    description='Room Price:',\n",
    "    disabled=False,\n",
    "    continuous_update=True,\n",
    "    orientation='horizontal',\n",
    "    readout=True,\n",
    "    readout_format='d')\n",
    "display(roomPriceUI)\n",
    "\n",
    "roomCountUI = widgets.IntSlider(\n",
    "    value=2,\n",
    "    min=0,\n",
    "    max=50,\n",
    "    step=1,\n",
    "    description='Room Count:',\n",
    "    disabled=False,\n",
    "    continuous_update=True,\n",
    "    orientation='horizontal',\n",
    "    readout=True,\n",
    "    readout_format='d')\n",
    "display(roomCountUI)"
   ]
  },
  {
   "cell_type": "code",
   "execution_count": 4,
   "metadata": {},
   "outputs": [],
   "source": [
    "roomPrice = roomPriceUI.value\n",
    "roomCount = roomCountUI.value"
   ]
  },
  {
   "cell_type": "code",
   "execution_count": 17,
   "metadata": {},
   "outputs": [],
   "source": [
    "def calculateRevenue (roomPrice, roomCount, aviableDays, occupanyRate):\n",
    "    revenue = roomPrice * roomCount * aviableDays * occupanyRate\n",
    "    return revenue\n",
    "    \n",
    "def calculateVariableCost (roomCount, aviableDays, occupanyRate, cleaningFee, unitBill):\n",
    "    variableCost = roomCount * aviableDays * occupanyRate *  (cleaningFee + unitBill)\n",
    "    return variableCost\n",
    "    \n",
    "def calculateFixedCost (rent, maintainance):\n",
    "    return rent+maintainance\n",
    "\n",
    "def calculateProfit(c1, c2, c3):\n",
    "    return c1 - c2 - c3\n",
    "\n",
    "def calculateBreakEvenPoint(c1, c2, c3):\n",
    "    return c3/(c1-c2) #fixed cost/(unit revenue - unit variable cost) & ours is calculated based on 1 month\n",
    "\n",
    "def report(revenue,varCost,fixCost,profit,breakEven):\n",
    "    breakEvenStr = \"{:.2f}\".format(breakEven)\n",
    "    print(f\"Revenue: {revenue} tl\")\n",
    "    print(f\"Variable Cost: {varCost} tl\")\n",
    "    print(f\"Ficed Cost: {fixCost} tl\")\n",
    "    print(f\"Profit: {profit} tl\")\n",
    "    print(f\"BreakEven Point: {breakEvenStr} months\")"
   ]
  },
  {
   "cell_type": "code",
   "execution_count": 18,
   "metadata": {},
   "outputs": [
    {
     "name": "stdout",
     "output_type": "stream",
     "text": [
      "Revenue: 3600.0 tl\n",
      "Variable Cost: 1980.0 tl\n",
      "Ficed Cost: 3000 tl\n",
      "Profit: -1380.0 tl\n",
      "BreakEven Point: 1.85 months\n"
     ]
    }
   ],
   "source": [
    "rev = calculateRevenue(roomPrice, roomCount, aviableDays, occupanyRate)\n",
    "varCost = calculateVariableCost (roomCount, aviableDays, occupanyRate, cleaningFee, unitBill)\n",
    "fixCost = calculateFixedCost (rent, maintainance)\n",
    "prof = calculateProfit (rev, varCost,fixCost)\n",
    "breakEven = calculateBreakEvenPoint (rev,varCost, fixCost)\n",
    "report(rev,varCost,fixCost,prof,breakEven)\n",
    "\n",
    "\n"
   ]
  },
  {
   "cell_type": "code",
   "execution_count": null,
   "metadata": {},
   "outputs": [],
   "source": []
  }
 ],
 "metadata": {
  "kernelspec": {
   "display_name": "Python 3",
   "language": "python",
   "name": "python3"
  },
  "language_info": {
   "codemirror_mode": {
    "name": "ipython",
    "version": 3
   },
   "file_extension": ".py",
   "mimetype": "text/x-python",
   "name": "python",
   "nbconvert_exporter": "python",
   "pygments_lexer": "ipython3",
   "version": "3.8.5"
  }
 },
 "nbformat": 4,
 "nbformat_minor": 4
}
