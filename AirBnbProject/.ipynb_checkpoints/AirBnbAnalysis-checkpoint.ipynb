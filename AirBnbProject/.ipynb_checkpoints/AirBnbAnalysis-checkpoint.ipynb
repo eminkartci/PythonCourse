{
 "cells": [
  {
   "cell_type": "markdown",
   "metadata": {},
   "source": [
    "\n",
    "### AirBnb Project\n",
    "\n",
    "```\n",
    "Airbnb, Inc. is an American company that operates an online marketplace for lodging, primarily homestays for vacation rentals, and tourism activities. \n",
    "```\n"
   ]
  },
  {
   "cell_type": "code",
   "execution_count": 1,
   "metadata": {},
   "outputs": [],
   "source": [
    "from __future__ import print_function\n",
    "from ipywidgets import interact, interactive, fixed, interact_manual\n",
    "from IPython.display import display\n",
    "import ipywidgets as widgets\n",
    "\n",
    "from matplotlib import pyplot as plt"
   ]
  },
  {
   "cell_type": "code",
   "execution_count": 78,
   "metadata": {},
   "outputs": [],
   "source": [
    "# Define Variables\n",
    "roomPrice = 100\n",
    "roomCount = 1\n",
    "aviableDays = 30\n",
    "occupanyRate = 0.6\n",
    "\n",
    "cleaningFee = 50\n",
    "unitBill = 5\n",
    "\n",
    "#Fixed Cost\n",
    "rent = 2500\n",
    "maintainance = 500\n",
    "\n",
    "contributionMargin = 10"
   ]
  },
  {
   "cell_type": "code",
   "execution_count": 79,
   "metadata": {},
   "outputs": [
    {
     "data": {
      "application/vnd.jupyter.widget-view+json": {
       "model_id": "3f848833583341cd81cb1da9e1ccbea6",
       "version_major": 2,
       "version_minor": 0
      },
      "text/plain": [
       "IntSlider(value=100, description='Room Price:', max=500)"
      ]
     },
     "metadata": {},
     "output_type": "display_data"
    },
    {
     "data": {
      "application/vnd.jupyter.widget-view+json": {
       "model_id": "a723b26f5e474e6eba106e1fcf5b2548",
       "version_major": 2,
       "version_minor": 0
      },
      "text/plain": [
       "IntSlider(value=2, description='Room Count:', max=50)"
      ]
     },
     "metadata": {},
     "output_type": "display_data"
    },
    {
     "data": {
      "application/vnd.jupyter.widget-view+json": {
       "model_id": "709f1c33560a49eaa0e4e4c908c1d9cf",
       "version_major": 2,
       "version_minor": 0
      },
      "text/plain": [
       "IntSlider(value=2, description='Available:', max=30)"
      ]
     },
     "metadata": {},
     "output_type": "display_data"
    },
    {
     "data": {
      "application/vnd.jupyter.widget-view+json": {
       "model_id": "7490d47ffc1b4340b0f5835643422f61",
       "version_major": 2,
       "version_minor": 0
      },
      "text/plain": [
       "FloatSlider(value=0.6, description='Occup (%):', max=1.0, step=0.01)"
      ]
     },
     "metadata": {},
     "output_type": "display_data"
    }
   ],
   "source": [
    "try:\n",
    "    roomPriceUI = widgets.IntSlider(\n",
    "        value=100,\n",
    "        min=0,\n",
    "        max=500,\n",
    "        step=1,\n",
    "        description='Room Price:',\n",
    "        disabled=False,\n",
    "        continuous_update=True,\n",
    "        orientation='horizontal',\n",
    "        readout=True,\n",
    "        readout_format='d')\n",
    "    display(roomPriceUI)\n",
    "\n",
    "    roomCountUI = widgets.IntSlider(\n",
    "        value=2,\n",
    "        min=0,\n",
    "        max=50,\n",
    "        step=1,\n",
    "        description='Room Count:',\n",
    "        disabled=False,\n",
    "        continuous_update=True,\n",
    "        orientation='horizontal',\n",
    "        readout=True,\n",
    "        readout_format='d')\n",
    "    display(roomCountUI)\n",
    "\n",
    "    availableDayUI = widgets.IntSlider(\n",
    "        value=2,\n",
    "        min=0,\n",
    "        max=30,\n",
    "        step=1,\n",
    "        description='Available:',\n",
    "        disabled=False,\n",
    "        continuous_update=True,\n",
    "        orientation='horizontal',\n",
    "        readout=True,\n",
    "        readout_format='d')\n",
    "    display(availableDayUI)\n",
    "\n",
    "    occupanyUI = widgets.FloatSlider(\n",
    "        value=0.6,\n",
    "        min=0,\n",
    "        max=1,\n",
    "        step=0.01,\n",
    "        description='Occup (%):',\n",
    "        disabled=False,\n",
    "        continuous_update=True,\n",
    "        orientation='horizontal',\n",
    "        readout=True,\n",
    "        readout_format='.2f')\n",
    "    display(occupanyUI)\n",
    "except:\n",
    "    print(\"Please Download the necessity libraries\")"
   ]
  },
  {
   "cell_type": "code",
   "execution_count": 75,
   "metadata": {},
   "outputs": [],
   "source": [
    "def calculateRevenue (roomPrice, roomCount, aviableDays, occupanyRate):\n",
    "    revenue = roomPrice * roomCount * aviableDays * occupanyRate\n",
    "    return revenue\n",
    "    \n",
    "def calculateVariableCost (roomCount, aviableDays, occupanyRate, cleaningFee, unitBill):\n",
    "    variableCost = roomCount * aviableDays * occupanyRate *  (cleaningFee + unitBill)\n",
    "    return variableCost\n",
    "\n",
    "def calculateUnitCost (cleaningFee, unitBill):\n",
    "    unitCost = (cleaningFee + unitBill)\n",
    "    return unitCost\n",
    "\n",
    "def calculateContributionMargin(price,unitCost):\n",
    "    return price - unitCost\n",
    "    \n",
    "def calculateFixedCost (rent, maintainance):\n",
    "    return rent+maintainance\n",
    "\n",
    "def calculateProfit(c1, c2, c3):\n",
    "    return c1 - c2 - c3\n",
    "\n",
    "def calculateBreakEvenPoint(c1, c2, c3):\n",
    "    try:\n",
    "        return c3/(c1-c2) #fixed cost/(unit revenue - unit variable cost) & ours is calculated based on 1 month\n",
    "    except ZeroDivisionError:\n",
    "        print(\"Break even is undefined!!\")\n",
    "        return 0.00\n",
    "\n",
    "def report(revenue,varCost,fixCost,profit,breakEven):\n",
    "    breakEvenStr = \"{:.2f}\".format(breakEven)\n",
    "    print(f\"Revenue: {revenue} tl\")\n",
    "    print(f\"Variable Cost: {varCost} tl\")\n",
    "    print(f\"Ficed Cost: {fixCost} tl\")\n",
    "    print(f\"Profit: {profit} tl\")\n",
    "    print(f\"BreakEven Point: {breakEvenStr} months\")\n",
    "    \n",
    "\n",
    "\n",
    "def updateVariables():\n",
    "    roomPrice    = roomPriceUI.value\n",
    "    roomCount    = roomCountUI.value\n",
    "    aviableDays  = availableDayUI.value\n",
    "    occupanyRate = occupanyUI.value\n",
    "    varCost = calculateUnitCost(cleaningFee, unitBill)\n",
    "    contributionMargin = calculateContributionMargin(roomPrice,varCost)\n",
    "\n",
    "def main():\n",
    "    updateVariables()\n",
    "    rev = calculateRevenue(roomPrice, roomCount, aviableDays, occupanyRate)\n",
    "    varCost = calculateVariableCost (roomCount, aviableDays, occupanyRate, cleaningFee, unitBill)\n",
    "    fixCost = calculateFixedCost (rent, maintainance)\n",
    "    prof = calculateProfit (rev, varCost,fixCost)\n",
    "    breakEven = calculateBreakEvenPoint (rev,varCost, fixCost)\n",
    "    report(rev,varCost,fixCost,prof,breakEven)\n",
    "    \n",
    "\n",
    "    "
   ]
  },
  {
   "cell_type": "code",
   "execution_count": 76,
   "metadata": {},
   "outputs": [
    {
     "name": "stdout",
     "output_type": "stream",
     "text": [
      "Revenue: 1800.0 tl\n",
      "Variable Cost: 990.0 tl\n",
      "Ficed Cost: 3000 tl\n",
      "Profit: -2190.0 tl\n",
      "BreakEven Point: 3.70 months\n"
     ]
    }
   ],
   "source": [
    "main()\n"
   ]
  },
  {
   "cell_type": "code",
   "execution_count": null,
   "metadata": {},
   "outputs": [],
   "source": []
  },
  {
   "cell_type": "code",
   "execution_count": 80,
   "metadata": {},
   "outputs": [
    {
     "name": "stdout",
     "output_type": "stream",
     "text": [
      "CM:  10\n"
     ]
    },
    {
     "data": {
      "image/png": "[encoded data removed]",
      "text/plain": [
       "<Figure size 1080x432 with 1 Axes>"
      ]
     },
     "metadata": {
      "needs_background": "light"
     },
     "output_type": "display_data"
    },
    {
     "name": "stdout",
     "output_type": "stream",
     "text": [
      "\n"
     ]
    }
   ],
   "source": [
    "def breakEvenGraph(CM,fixedCost):\n",
    "\n",
    "    CM_list = [(fixedCost * -1)]\n",
    "    for day in range(1,30):\n",
    "        CM_list.append(CM_list[day-1] + CM)\n",
    "    \n",
    "    plt.figure(figsize=(15,6))\n",
    "    plt.plot(CM_list)\n",
    "    \n",
    "    plt.title(\"A-MEAN AirBnB Break Even Analysis\")\n",
    "    plt.xlabel(\"Days\")\n",
    "    plt.ylabel(\"Dollar($)\")\n",
    "\n",
    "    plt.show()\n",
    "\n",
    "    \n",
    "breakEvenGraph(contributionMargin,fixCost)\n",
    "saveReport()\n",
    "\n"
   ]
  },
  {
   "cell_type": "code",
   "execution_count": null,
   "metadata": {},
   "outputs": [],
   "source": []
  }
 ],
 "metadata": {
  "kernelspec": {
   "display_name": "Python 3",
   "language": "python",
   "name": "python3"
  },
  "language_info": {
   "codemirror_mode": {
    "name": "ipython",
    "version": 3
   },
   "file_extension": ".py",
   "mimetype": "text/x-python",
   "name": "python",
   "nbconvert_exporter": "python",
   "pygments_lexer": "ipython3",
   "version": "3.8.5"
  }
 },
 "nbformat": 4,
 "nbformat_minor": 4
}
